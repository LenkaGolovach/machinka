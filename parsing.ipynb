{
 "cells": [
  {
   "cell_type": "markdown",
   "id": "86ee1581",
   "metadata": {},
   "source": [
    "# Парсинг\n",
    "Необходимо сформировать датасет со следующими данными:  \n",
    "$\\bullet$ Название фильма  \n",
    "$\\bullet$ Страна производства фильма  \n",
    "$\\bullet$ Жанр фильма  \n",
    "$\\bullet$ Главные актеры фильма  \n",
    "$\\bullet$ Режиссер фильма  \n",
    "$\\bullet$ Длительность фильма в минутах  \n",
    "$\\bullet$ Описание фильма  \n",
    "$\\bullet$ Оценка фильма  "
   ]
  },
  {
   "cell_type": "markdown",
   "id": "48529135",
   "metadata": {},
   "source": [
    "Подключение необходимых библиотек"
   ]
  },
  {
   "cell_type": "code",
   "execution_count": 2,
   "id": "2f585f3a",
   "metadata": {},
   "outputs": [],
   "source": [
    "import numpy as np\n",
    "import pandas as pd\n",
    "from selenium import webdriver\n",
    "from selenium.webdriver.chrome.options import Options\n",
    "from selenium.webdriver.chrome.service import Service as ChromeService\n",
    "from webdriver_manager.chrome import ChromeDriverManager\n",
    "from bs4 import BeautifulSoup as bs\n",
    "import csv\n",
    "from random import uniform\n",
    "from time import sleep"
   ]
  },
  {
   "cell_type": "code",
   "execution_count": 3,
   "id": "f4ff9034",
   "metadata": {},
   "outputs": [],
   "source": [
    "option = Options()\n",
    "option.add_argument(\"--disable-infobars\")\n",
    "browser = webdriver.Chrome(service=ChromeService(ChromeDriverManager().install()),\n",
    "                          options=option)"
   ]
  },
  {
   "cell_type": "markdown",
   "id": "13fde620",
   "metadata": {},
   "source": [
    "Парсинг 20 вкладок страницы «Популярные фильмы» для получения 1000 ссылок на страницы фильмов"
   ]
  },
  {
   "cell_type": "code",
   "execution_count": 12,
   "id": "23bf2b58",
   "metadata": {},
   "outputs": [],
   "source": [
    "base_url = 'https://www.kinopoisk.ru/lists/movies/popular-films/?page={}'\n",
    "pages = []\n",
    "urls = [base_url.format(x) for x in [int(num) for num in \n",
    "                                     np.linspace(1, 20, 20)]]\n",
    "for url in urls:\n",
    "    browser.get(url)\n",
    "    soup = bs(browser.page_source, 'lxml')\n",
    "    page_urls = [page['href'] for page in \n",
    "                 soup.find_all('a', {'class': 'base-movie-main-info_link__YwtP1'})]\n",
    "    pages.extend(page_urls)"
   ]
  },
  {
   "cell_type": "markdown",
   "id": "785924d9",
   "metadata": {},
   "source": [
    "Форматирование полученных ссылок"
   ]
  },
  {
   "cell_type": "code",
   "execution_count": 13,
   "id": "78e2e63e",
   "metadata": {},
   "outputs": [],
   "source": [
    "links = ['https://www.kinopoisk.ru' + page for page in pages] "
   ]
  },
  {
   "cell_type": "markdown",
   "id": "119a48f6",
   "metadata": {},
   "source": [
    "Проверка количества полученных ссылок"
   ]
  },
  {
   "cell_type": "code",
   "execution_count": 15,
   "id": "32a536e3",
   "metadata": {},
   "outputs": [
    {
     "data": {
      "text/plain": [
       "1000"
      ]
     },
     "execution_count": 15,
     "metadata": {},
     "output_type": "execute_result"
    }
   ],
   "source": [
    "len(links)"
   ]
  },
  {
   "cell_type": "markdown",
   "id": "24b5becc",
   "metadata": {},
   "source": [
    "Создание структуры для последующего заполнения данными"
   ]
  },
  {
   "cell_type": "code",
   "execution_count": 39,
   "id": "b713ca95",
   "metadata": {},
   "outputs": [],
   "source": [
    "data = {\n",
    "    'title': [], # Название фильма\n",
    "    'country': [], # Страна производства фильма\n",
    "    'genre': [], # Жанр фильма\n",
    "    'actors': [], # Главные актеры фильма\n",
    "    'director': [], # Режиссер фильма\n",
    "    'time': [], # Длительность фильма в минутах\n",
    "    'description': [], # Описание фильма\n",
    "    'score': [] # Оценка фильма\n",
    "}"
   ]
  },
  {
   "cell_type": "markdown",
   "id": "33b92548",
   "metadata": {},
   "source": [
    "Парсинг страниц фильмов по полученным ссылкам и заполнение структуры данными"
   ]
  },
  {
   "cell_type": "code",
   "execution_count": 40,
   "id": "c9054d3f",
   "metadata": {},
   "outputs": [],
   "source": [
    "for link in links:\n",
    "    # Парсинг страницы фильма\n",
    "    browser.get(link)\n",
    "    soup = bs(browser.page_source, 'html')\n",
    "    \n",
    "    try:\n",
    "        # Название фильма\n",
    "        title = soup.find('span', {'data-tid': '75209b22'}).text.split(\"(\")[0]\n",
    "        \n",
    "        # Страна производства фильма\n",
    "        country = [c.find('a').text for c in \n",
    "                   soup.find_all('div', {'data-tid': 'd5ff4cc'}) \n",
    "                   if c.find('a')['href'].startswith(\"/lists/movies/country\") \n",
    "                   == True]\n",
    "        \n",
    "        # Жанр фильма\n",
    "        genre = [g.text for g in \n",
    "                 soup.find('div', {'data-tid': '28726596'}).find_all('a')]\n",
    "        \n",
    "        # Главные актеры фильма\n",
    "        actors = [act.text for act in \n",
    "                  soup.find('ul', {'class': 'styles_list___ufg4'}).find_all('a')[0:3]]\n",
    "        \n",
    "        # Режиссер фильма\n",
    "        director = [a.text for a in \n",
    "                    soup.find_all('a', {'data-tid': '603f73a4'}) \n",
    "                    if a['href'].startswith('/name')][0]\n",
    "        \n",
    "        # Описание фильма\n",
    "        description = str(soup.find('p', {'class': 'styles_paragraph__wEGPz'}).text).replace('\\xa0', ' ')\n",
    "        \n",
    "        # Длительность фильма в минутах\n",
    "        time = [t.text.split(' ')[0] for t in soup.find_all('div', {'data-tid': 'e1e37c21'}) \n",
    "                if (len(t.text.split(' ')) > 1 and t.text.split(' ')[1] == 'мин.')][0]\n",
    "        \n",
    "        # Оценка фильма\n",
    "        score = float(soup.find('span', {'data-tid': '7f8f8841'}).text.split(' ')[2])\n",
    "        \n",
    "    except:\n",
    "        # Пропуск неподходящих страниц\n",
    "        continue\n",
    "    \n",
    "    # Добавление записей\n",
    "    data['title'] += [title]\n",
    "    data['country'] += [country]\n",
    "    data['genre'] += [genre]\n",
    "    data['actors'] += [actors]\n",
    "    data['director'] += [director]\n",
    "    data['description'] += [description]\n",
    "    data['time'] += [time]\n",
    "    data['score'] += [score]\n",
    "    \n",
    "    # Случайная пауза между парсингом страниц\n",
    "    sleep(uniform(1, 15))"
   ]
  },
  {
   "cell_type": "markdown",
   "id": "e9bd2ceb",
   "metadata": {},
   "source": [
    "Создание датафрейма на основе заполненной структуры"
   ]
  },
  {
   "cell_type": "code",
   "execution_count": 42,
   "id": "9c5009b1",
   "metadata": {},
   "outputs": [],
   "source": [
    "dt = pd.DataFrame(data = data)"
   ]
  },
  {
   "cell_type": "markdown",
   "id": "60032cc2",
   "metadata": {},
   "source": [
    "Проверка наличия в датафрейме пропусков данных"
   ]
  },
  {
   "cell_type": "code",
   "execution_count": 53,
   "id": "c4d7fb35",
   "metadata": {},
   "outputs": [
    {
     "data": {
      "text/plain": [
       "title          0\n",
       "country        0\n",
       "genre          0\n",
       "actors         0\n",
       "director       0\n",
       "time           0\n",
       "description    0\n",
       "score          0\n",
       "dtype: int64"
      ]
     },
     "execution_count": 53,
     "metadata": {},
     "output_type": "execute_result"
    }
   ],
   "source": [
    "dt.isnull().sum()"
   ]
  },
  {
   "cell_type": "markdown",
   "id": "4cc8a84a",
   "metadata": {},
   "source": [
    "Вывод первых 10 строк"
   ]
  },
  {
   "cell_type": "code",
   "execution_count": 62,
   "id": "37051244",
   "metadata": {},
   "outputs": [
    {
     "data": {
      "text/html": [
       "<div>\n",
       "<style scoped>\n",
       "    .dataframe tbody tr th:only-of-type {\n",
       "        vertical-align: middle;\n",
       "    }\n",
       "\n",
       "    .dataframe tbody tr th {\n",
       "        vertical-align: top;\n",
       "    }\n",
       "\n",
       "    .dataframe thead th {\n",
       "        text-align: right;\n",
       "    }\n",
       "</style>\n",
       "<table border=\"1\" class=\"dataframe\">\n",
       "  <thead>\n",
       "    <tr style=\"text-align: right;\">\n",
       "      <th></th>\n",
       "      <th>title</th>\n",
       "      <th>country</th>\n",
       "      <th>genre</th>\n",
       "      <th>actors</th>\n",
       "      <th>director</th>\n",
       "      <th>time</th>\n",
       "      <th>description</th>\n",
       "      <th>score</th>\n",
       "    </tr>\n",
       "  </thead>\n",
       "  <tbody>\n",
       "    <tr>\n",
       "      <th>0</th>\n",
       "      <td>Бременские музыканты</td>\n",
       "      <td>[Россия]</td>\n",
       "      <td>[приключения, семейный, фэнтези, комедия]</td>\n",
       "      <td>[Тихон Жизневский, Валентина Ляпина, Роман Кур...</td>\n",
       "      <td>Алексей Нужный</td>\n",
       "      <td>116</td>\n",
       "      <td>Трубадур и его друзья-самозванцы — Пес, Кошка,...</td>\n",
       "      <td>7.1</td>\n",
       "    </tr>\n",
       "    <tr>\n",
       "      <th>1</th>\n",
       "      <td>По щучьему велению</td>\n",
       "      <td>[Россия]</td>\n",
       "      <td>[фэнтези, приключения, семейный]</td>\n",
       "      <td>[Никита Кологривый, Мила Ершова, Алина Алексеева]</td>\n",
       "      <td>Александр Войтинский</td>\n",
       "      <td>115</td>\n",
       "      <td>Если ты идешь на рыбалку — будь готов к тому, ...</td>\n",
       "      <td>7.8</td>\n",
       "    </tr>\n",
       "    <tr>\n",
       "      <th>2</th>\n",
       "      <td>Иван Васильевич меняет всё</td>\n",
       "      <td>[Россия]</td>\n",
       "      <td>[комедия, фантастика, приключения, слова]</td>\n",
       "      <td>[Тимур Батрутдинов, Демис Карибидис, Максим Ла...</td>\n",
       "      <td>Миша Семичев</td>\n",
       "      <td>106</td>\n",
       "      <td>Шурик пытается с помощью машины времени вернут...</td>\n",
       "      <td>6.6</td>\n",
       "    </tr>\n",
       "    <tr>\n",
       "      <th>3</th>\n",
       "      <td>Триггер. Фильм</td>\n",
       "      <td>[Россия]</td>\n",
       "      <td>[драма]</td>\n",
       "      <td>[Максим Матвеев, Ирина Старшенбаум, Виктория М...</td>\n",
       "      <td>Александра Ремизова</td>\n",
       "      <td>99</td>\n",
       "      <td>После драматичных событий — бывшая жена осужде...</td>\n",
       "      <td>6.0</td>\n",
       "    </tr>\n",
       "    <tr>\n",
       "      <th>4</th>\n",
       "      <td>Три богатыря и Пуп Земли</td>\n",
       "      <td>[Россия]</td>\n",
       "      <td>[мультфильм, приключения, семейный]</td>\n",
       "      <td>[Олег Куликович, Валерий Соловьев, Дмитрий Бык...</td>\n",
       "      <td>Константин Феоктистов</td>\n",
       "      <td>85</td>\n",
       "      <td>По сказкам мы знаем, что было давным-давно, но...</td>\n",
       "      <td>5.6</td>\n",
       "    </tr>\n",
       "    <tr>\n",
       "      <th>5</th>\n",
       "      <td>Холоп</td>\n",
       "      <td>[Россия]</td>\n",
       "      <td>[комедия, мелодрама]</td>\n",
       "      <td>[Милош Бикович, Александра Бортич, Александр С...</td>\n",
       "      <td>Клим Шипенко</td>\n",
       "      <td>109</td>\n",
       "      <td>27-летний московский мажор Григорий ошалел от ...</td>\n",
       "      <td>7.0</td>\n",
       "    </tr>\n",
       "    <tr>\n",
       "      <th>6</th>\n",
       "      <td>Мальчик и птица</td>\n",
       "      <td>[Япония]</td>\n",
       "      <td>[аниме, мультфильм, драма, фэнтези, слова]</td>\n",
       "      <td>[Сома Сантоки, Аимён, Кэйко Такэсита]</td>\n",
       "      <td>Хаяо Миядзаки</td>\n",
       "      <td>124</td>\n",
       "      <td>Мальчик Махито сильно тоскует по своей матери ...</td>\n",
       "      <td>7.7</td>\n",
       "    </tr>\n",
       "    <tr>\n",
       "      <th>7</th>\n",
       "      <td>Тёща</td>\n",
       "      <td>[Россия]</td>\n",
       "      <td>[комедия]</td>\n",
       "      <td>[Лариса Гузеева, Гарик Харламов, Настасья Самб...</td>\n",
       "      <td>Аскар Узабаев</td>\n",
       "      <td>98</td>\n",
       "      <td>Ольга Николаевна — волевая женщина и начальниц...</td>\n",
       "      <td>6.0</td>\n",
       "    </tr>\n",
       "    <tr>\n",
       "      <th>8</th>\n",
       "      <td>Оппенгеймер</td>\n",
       "      <td>[США]</td>\n",
       "      <td>[биография, драма, история, слова]</td>\n",
       "      <td>[Киллиан Мерфи, Эмили Блант, Мэтт Дэймон]</td>\n",
       "      <td>Кристофер Нолан</td>\n",
       "      <td>180</td>\n",
       "      <td>История жизни американского физика-теоретика Р...</td>\n",
       "      <td>8.2</td>\n",
       "    </tr>\n",
       "    <tr>\n",
       "      <th>9</th>\n",
       "      <td>Убийцы цветочной луны</td>\n",
       "      <td>[США]</td>\n",
       "      <td>[драма, криминал, история, слова]</td>\n",
       "      <td>[Леонардо ДиКаприо, Роберт Де Ниро, Лили Гладс...</td>\n",
       "      <td>Мартин Скорсезе</td>\n",
       "      <td>206</td>\n",
       "      <td>Вскоре после Первой мировой Эрнест Беркхарт, о...</td>\n",
       "      <td>7.2</td>\n",
       "    </tr>\n",
       "  </tbody>\n",
       "</table>\n",
       "</div>"
      ],
      "text/plain": [
       "                         title   country  \\\n",
       "0        Бременские музыканты   [Россия]   \n",
       "1          По щучьему велению   [Россия]   \n",
       "2  Иван Васильевич меняет всё   [Россия]   \n",
       "3              Триггер. Фильм   [Россия]   \n",
       "4    Три богатыря и Пуп Земли   [Россия]   \n",
       "5                       Холоп   [Россия]   \n",
       "6             Мальчик и птица   [Япония]   \n",
       "7                        Тёща   [Россия]   \n",
       "8                 Оппенгеймер      [США]   \n",
       "9       Убийцы цветочной луны      [США]   \n",
       "\n",
       "                                        genre  \\\n",
       "0   [приключения, семейный, фэнтези, комедия]   \n",
       "1            [фэнтези, приключения, семейный]   \n",
       "2   [комедия, фантастика, приключения, слова]   \n",
       "3                                     [драма]   \n",
       "4         [мультфильм, приключения, семейный]   \n",
       "5                        [комедия, мелодрама]   \n",
       "6  [аниме, мультфильм, драма, фэнтези, слова]   \n",
       "7                                   [комедия]   \n",
       "8          [биография, драма, история, слова]   \n",
       "9           [драма, криминал, история, слова]   \n",
       "\n",
       "                                              actors               director  \\\n",
       "0  [Тихон Жизневский, Валентина Ляпина, Роман Кур...         Алексей Нужный   \n",
       "1  [Никита Кологривый, Мила Ершова, Алина Алексеева]   Александр Войтинский   \n",
       "2  [Тимур Батрутдинов, Демис Карибидис, Максим Ла...           Миша Семичев   \n",
       "3  [Максим Матвеев, Ирина Старшенбаум, Виктория М...    Александра Ремизова   \n",
       "4  [Олег Куликович, Валерий Соловьев, Дмитрий Бык...  Константин Феоктистов   \n",
       "5  [Милош Бикович, Александра Бортич, Александр С...           Клим Шипенко   \n",
       "6              [Сома Сантоки, Аимён, Кэйко Такэсита]          Хаяо Миядзаки   \n",
       "7  [Лариса Гузеева, Гарик Харламов, Настасья Самб...          Аскар Узабаев   \n",
       "8          [Киллиан Мерфи, Эмили Блант, Мэтт Дэймон]        Кристофер Нолан   \n",
       "9  [Леонардо ДиКаприо, Роберт Де Ниро, Лили Гладс...        Мартин Скорсезе   \n",
       "\n",
       "  time                                        description  score  \n",
       "0  116  Трубадур и его друзья-самозванцы — Пес, Кошка,...    7.1  \n",
       "1  115  Если ты идешь на рыбалку — будь готов к тому, ...    7.8  \n",
       "2  106  Шурик пытается с помощью машины времени вернут...    6.6  \n",
       "3   99  После драматичных событий — бывшая жена осужде...    6.0  \n",
       "4   85  По сказкам мы знаем, что было давным-давно, но...    5.6  \n",
       "5  109  27-летний московский мажор Григорий ошалел от ...    7.0  \n",
       "6  124  Мальчик Махито сильно тоскует по своей матери ...    7.7  \n",
       "7   98  Ольга Николаевна — волевая женщина и начальниц...    6.0  \n",
       "8  180  История жизни американского физика-теоретика Р...    8.2  \n",
       "9  206  Вскоре после Первой мировой Эрнест Беркхарт, о...    7.2  "
      ]
     },
     "execution_count": 62,
     "metadata": {},
     "output_type": "execute_result"
    }
   ],
   "source": [
    "dt.head(10)"
   ]
  },
  {
   "cell_type": "markdown",
   "id": "9f185d95",
   "metadata": {},
   "source": [
    "Сохранение датафрейма в формате CSV"
   ]
  },
  {
   "cell_type": "code",
   "execution_count": 67,
   "id": "c3d8fb44",
   "metadata": {},
   "outputs": [],
   "source": [
    "dt.to_csv('./datasets/data.csv')"
   ]
  },
  {
   "cell_type": "markdown",
   "id": "f879ffc1",
   "metadata": {},
   "source": [
    "### Создание обучающей и тестовой выборок\n",
    "Разделим датасет на обучающую и тестовую выборку в отношении 7:3. Каждую выборку сохраним в формате CSV"
   ]
  },
  {
   "cell_type": "markdown",
   "id": "496ccc9f",
   "metadata": {},
   "source": [
    "Обучающая выборка"
   ]
  },
  {
   "cell_type": "code",
   "execution_count": 68,
   "id": "c85edf75",
   "metadata": {},
   "outputs": [],
   "source": [
    "train = dt.head(int(len(dt) * 0.7))\n",
    "train.to_csv('./datasets/train.csv')"
   ]
  },
  {
   "cell_type": "markdown",
   "id": "7c92d474",
   "metadata": {},
   "source": [
    "Тестовая выборка"
   ]
  },
  {
   "cell_type": "code",
   "execution_count": 69,
   "id": "1a1621d1",
   "metadata": {},
   "outputs": [],
   "source": [
    "test = dt.tail(int(len(dt) * 0.3) + 1)\n",
    "test.to_csv('./datasets/test.csv')"
   ]
  },
  {
   "cell_type": "code",
   "execution_count": null,
   "id": "653f3cc2",
   "metadata": {},
   "outputs": [],
   "source": []
  }
 ],
 "metadata": {
  "kernelspec": {
   "display_name": "Python 3 (ipykernel)",
   "language": "python",
   "name": "python3"
  },
  "language_info": {
   "codemirror_mode": {
    "name": "ipython",
    "version": 3
   },
   "file_extension": ".py",
   "mimetype": "text/x-python",
   "name": "python",
   "nbconvert_exporter": "python",
   "pygments_lexer": "ipython3",
   "version": "3.9.7"
  }
 },
 "nbformat": 4,
 "nbformat_minor": 5
}
